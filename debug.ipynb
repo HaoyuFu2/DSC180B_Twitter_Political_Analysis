{
 "cells": [
  {
   "cell_type": "code",
   "execution_count": 1,
   "metadata": {},
   "outputs": [
    {
     "name": "stderr",
     "output_type": "stream",
     "text": [
      "2024-03-14 13:38:12.573236: I tensorflow/core/platform/cpu_feature_guard.cc:182] This TensorFlow binary is optimized to use available CPU instructions in performance-critical operations.\n",
      "To enable the following instructions: AVX2 FMA, in other operations, rebuild TensorFlow with the appropriate compiler flags.\n"
     ]
    }
   ],
   "source": [
    "import os\n",
    "import pickle\n",
    "import torch\n",
    "import random\n",
    "import numpy as np\n",
    "import pandas as pd\n",
    "import tensorflow as tf\n",
    "from tqdm.auto import tqdm\n",
    "from tensorflow.keras import Model\n",
    "import tensorflow_recommenders as tfrs\n",
    "from sklearn.preprocessing import LabelEncoder\n",
    "from sklearn.model_selection import train_test_split\n",
    "from sklearn.metrics import roc_auc_score, accuracy_score\n",
    "from transformers import AutoTokenizer, AutoModelForCausalLM\n",
    "from tensorflow.keras.layers import Input, Dense, Dropout, Embedding, Reshape"
   ]
  },
  {
   "cell_type": "code",
   "execution_count": 30,
   "metadata": {},
   "outputs": [],
   "source": [
    "# set seeds in order to get consistent random results\n",
    "os.environ['PYTHONHASHSEED'] = str(42)\n",
    "random.seed(42)\n",
    "np.random.seed(42)\n",
    "torch.manual_seed(42)\n",
    "tqdm.pandas()\n",
    "\n",
    "# load data\n",
    "df = pd.read_parquet('data/labels.parquet')[:1000].drop_duplicates(subset=['tweet'])"
   ]
  },
  {
   "cell_type": "code",
   "execution_count": 31,
   "metadata": {},
   "outputs": [
    {
     "data": {
      "text/html": [
       "<div>\n",
       "<style scoped>\n",
       "    .dataframe tbody tr th:only-of-type {\n",
       "        vertical-align: middle;\n",
       "    }\n",
       "\n",
       "    .dataframe tbody tr th {\n",
       "        vertical-align: top;\n",
       "    }\n",
       "\n",
       "    .dataframe thead th {\n",
       "        text-align: right;\n",
       "    }\n",
       "</style>\n",
       "<table border=\"1\" class=\"dataframe\">\n",
       "  <thead>\n",
       "    <tr style=\"text-align: right;\">\n",
       "      <th></th>\n",
       "      <th>user_id</th>\n",
       "      <th>label</th>\n",
       "      <th>tweet</th>\n",
       "      <th>year</th>\n",
       "    </tr>\n",
       "  </thead>\n",
       "  <tbody>\n",
       "    <tr>\n",
       "      <th>0</th>\n",
       "      <td>360666534</td>\n",
       "      <td>0</td>\n",
       "      <td>Elecciones2020 | En  Florida:  JoeBiden dice q...</td>\n",
       "      <td>2020</td>\n",
       "    </tr>\n",
       "    <tr>\n",
       "      <th>1</th>\n",
       "      <td>8436472</td>\n",
       "      <td>0</td>\n",
       "      <td>Trump: As a student I used to hear for years, ...</td>\n",
       "      <td>2020</td>\n",
       "    </tr>\n",
       "    <tr>\n",
       "      <th>2</th>\n",
       "      <td>828355589206056960</td>\n",
       "      <td>0</td>\n",
       "      <td>2 hours since last tweet from  Trump! Maybe he...</td>\n",
       "      <td>2020</td>\n",
       "    </tr>\n",
       "    <tr>\n",
       "      <th>3</th>\n",
       "      <td>47413798</td>\n",
       "      <td>0</td>\n",
       "      <td>You get a tie! And you get a tie!  Trump ‘s ra...</td>\n",
       "      <td>2020</td>\n",
       "    </tr>\n",
       "    <tr>\n",
       "      <th>4</th>\n",
       "      <td>1138416104</td>\n",
       "      <td>0</td>\n",
       "      <td>CLady62 Her 15 minutes were over long time ago...</td>\n",
       "      <td>2020</td>\n",
       "    </tr>\n",
       "  </tbody>\n",
       "</table>\n",
       "</div>"
      ],
      "text/plain": [
       "              user_id  label  \\\n",
       "0           360666534      0   \n",
       "1             8436472      0   \n",
       "2  828355589206056960      0   \n",
       "3            47413798      0   \n",
       "4          1138416104      0   \n",
       "\n",
       "                                               tweet  year  \n",
       "0  Elecciones2020 | En  Florida:  JoeBiden dice q...  2020  \n",
       "1  Trump: As a student I used to hear for years, ...  2020  \n",
       "2  2 hours since last tweet from  Trump! Maybe he...  2020  \n",
       "3  You get a tie! And you get a tie!  Trump ‘s ra...  2020  \n",
       "4  CLady62 Her 15 minutes were over long time ago...  2020  "
      ]
     },
     "execution_count": 31,
     "metadata": {},
     "output_type": "execute_result"
    }
   ],
   "source": [
    "df.head()"
   ]
  },
  {
   "cell_type": "code",
   "execution_count": 11,
   "metadata": {},
   "outputs": [],
   "source": [
    "# encode labels\n",
    "le = LabelEncoder()\n",
    "df['user_id'] = le.fit_transform(df['user_id'])\n",
    "df['year_order'] = le.fit_transform(df['year'])\n",
    "df['tweet_id'] = le.fit_transform(df['tweet'])\n",
    "\n",
    "# split dataset\n",
    "(train_data, val_data) = train_test_split(df, test_size=0.1)\n",
    "train_data.to_parquet('data/train_data.parquet')\n",
    "val_data.to_parquet('data/val_data.parquet')"
   ]
  },
  {
   "cell_type": "code",
   "execution_count": 12,
   "metadata": {},
   "outputs": [],
   "source": [
    "# make embeddings\n",
    "tokenizer = AutoTokenizer.from_pretrained('gpt2')\n",
    "model = AutoModelForCausalLM.from_pretrained('gpt2')\n",
    "tweet_list = df['tweet'].drop_duplicates().tolist()\n",
    "embeddings = []"
   ]
  },
  {
   "cell_type": "code",
   "execution_count": 13,
   "metadata": {},
   "outputs": [
    {
     "data": {
      "application/vnd.jupyter.widget-view+json": {
       "model_id": "48cc1f40727d40169831b75c0b615a41",
       "version_major": 2,
       "version_minor": 0
      },
      "text/plain": [
       "  0%|          | 0/988 [00:00<?, ?it/s]"
      ]
     },
     "metadata": {},
     "output_type": "display_data"
    }
   ],
   "source": [
    "for tweet in tqdm(tweet_list):\n",
    "    prompt = \\\n",
    "        '''Below is a Tweet that discusses the Presidential Election. Write a response that appropriately describes the author's political position.\n",
    "'''\n",
    "    prompt += f\"### Tweet:{tweet}\\n\\n### Response:\"\n",
    "    input_ids = torch.tensor(tokenizer.encode(prompt)).unsqueeze(0)\n",
    "    outputs = model(input_ids, output_hidden_states=True)\n",
    "    embeddings.append(outputs.hidden_states[-1][:, -1, :].detach().numpy())\n",
    "pickle.dump(embeddings, open('gpt2_embeddings.pkl', 'wb'))"
   ]
  },
  {
   "cell_type": "code",
   "execution_count": 23,
   "metadata": {},
   "outputs": [],
   "source": [
    "# build the models\n",
    "def get_model(dim=50):\n",
    "    weights = np.vstack(pickle.load(open('gpt2_embeddings.pkl', 'rb')))\n",
    "    user_id = Input(name='user_id', shape=(1, ))\n",
    "    year_id = Input(name='year_id', shape=(1, ))\n",
    "    tweet_id = Input(name='tweet_id', shape=(1, ))\n",
    "\n",
    "    # first embedding: user's label\n",
    "    x1 = Embedding(df['user_id'].max() + 1, dim, name='user_embedding')(user_id)\n",
    "    x1 = Reshape((dim, ), name='reshape1')(x1)\n",
    "\n",
    "    # second embedding: tweet\n",
    "    tweet_embedding = Embedding(weights.shape[0], weights.shape[1], weights=[weights], trainable=False, name='tweet_embedding')(tweet_id)\n",
    "    x2 = Dense(dim, name='tweet_embedding2')(tweet_embedding) \n",
    "    x2 = Reshape((dim, ), name='reshape2')(x2)\n",
    "\n",
    "    # third embeddings: year\n",
    "    x3 = Embedding(df['year_order'].max() + 1, dim, name='year_embedding')(year_id)\n",
    "    x3 = Reshape((dim, ), name='reshape3')(x3)\n",
    "\n",
    "    # combine the above three embeddings\n",
    "    x = [x1, x2, x3]\n",
    "    x = tf.concat(x, axis=1, name='concat1')\n",
    "    for i in range(3):\n",
    "        x = tfrs.layers.dcn.Cross(projection_dim=dim*3, kernel_initializer=\"glorot_uniform\", name=f'cross_layer_{i}')(x)\n",
    "        x = Dropout(0.2)(x)\n",
    "    for i in range(3):\n",
    "        x = Dense(dim*3, activation=\"relu\", name=f'dense_layer_{i}')(x)\n",
    "        x = Dropout(0.2)(x)\n",
    "    \n",
    "    # generate predictions\n",
    "    out = Dense(1, activation='sigmoid', name=\"out\")(x)\n",
    "\n",
    "    # model building\n",
    "    inputs = {'user_id': user_id, 'tweet_id': tweet_id, 'year_id': year_id}\n",
    "    model = Model(inputs=inputs, outputs=out)\n",
    "    return model"
   ]
  },
  {
   "cell_type": "code",
   "execution_count": 24,
   "metadata": {},
   "outputs": [],
   "source": [
    "# model training\n",
    "def train(train, val):\n",
    "    model = get_model()\n",
    "    # make the features for training and validating sets\n",
    "    train_features = {\n",
    "        'user_id': np.array(train['user_id']),\n",
    "        'year_order': np.array(train['year_order'])\n",
    "    }\n",
    "    val_features = {\n",
    "        'user_id': np.array(val['user_id']),\n",
    "        'year_order': np.array(val['year_order'])\n",
    "    }\n",
    "    train_label = np.array(train['label'])\n",
    "    val_label = np.array(val['label'])\n",
    "\n",
    "    # model compiling\n",
    "    lr_schedule = tf.keras.optimizers.schedules.ExponentialDecay(\n",
    "        initial_learning_rate=2e-5,\n",
    "        decay_steps=80000,\n",
    "        decay_rate=0.96,\n",
    "        staircase=True\n",
    "    )\n",
    "    model.compile(\n",
    "        optimizer=tf.keras.optimizers.Adam(learning_rate=lr_schedule),\n",
    "        loss=tf.keras.losses.BinaryCrossentropy(),\n",
    "        metrics=[\n",
    "            tf.keras.metrics.AUC(),\n",
    "            tf.keras.metrics.BinaryAccuracy()\n",
    "        ]\n",
    "    )\n",
    "    history = model.fit(\n",
    "        train_features,\n",
    "        train_label,\n",
    "        validation_data=(val_features, val_label),\n",
    "        batch_size=8,\n",
    "        epochs=10,\n",
    "        verbose=1,\n",
    "        use_multiprocessing=True,\n",
    "        workers=20\n",
    "    )\n",
    "\n",
    "    return model, history"
   ]
  },
  {
   "cell_type": "code",
   "execution_count": 25,
   "metadata": {},
   "outputs": [
    {
     "name": "stdout",
     "output_type": "stream",
     "text": [
      "Epoch 1/10\n"
     ]
    },
    {
     "ename": "ValueError",
     "evalue": "in user code:\n\n    File \"/Users/haoyufu/opt/anaconda3/lib/python3.9/site-packages/keras/src/engine/training.py\", line 1401, in train_function  *\n        return step_function(self, iterator)\n    File \"/Users/haoyufu/opt/anaconda3/lib/python3.9/site-packages/keras/src/engine/training.py\", line 1384, in step_function  **\n        outputs = model.distribute_strategy.run(run_step, args=(data,))\n    File \"/Users/haoyufu/opt/anaconda3/lib/python3.9/site-packages/keras/src/engine/training.py\", line 1373, in run_step  **\n        outputs = model.train_step(data)\n    File \"/Users/haoyufu/opt/anaconda3/lib/python3.9/site-packages/keras/src/engine/training.py\", line 1150, in train_step\n        y_pred = self(x, training=True)\n    File \"/Users/haoyufu/opt/anaconda3/lib/python3.9/site-packages/keras/src/utils/traceback_utils.py\", line 70, in error_handler\n        raise e.with_traceback(filtered_tb) from None\n    File \"/Users/haoyufu/opt/anaconda3/lib/python3.9/site-packages/keras/src/engine/input_spec.py\", line 197, in assert_input_compatibility\n        raise ValueError(\n\n    ValueError: Missing data for input \"tweet_id\". You passed a data dictionary with keys ['user_id', 'year_order']. Expected the following keys: ['tweet_id', 'user_id', 'year_id']\n",
     "output_type": "error",
     "traceback": [
      "\u001b[0;31m---------------------------------------------------------------------------\u001b[0m",
      "\u001b[0;31mValueError\u001b[0m                                Traceback (most recent call last)",
      "\u001b[0;32m/var/folders/b4/dlbgv7zs05g7w0k53yzn8vz80000gn/T/ipykernel_46955/2136041268.py\u001b[0m in \u001b[0;36m<module>\u001b[0;34m\u001b[0m\n\u001b[1;32m      2\u001b[0m \u001b[0mtrain_data\u001b[0m \u001b[0;34m=\u001b[0m \u001b[0mpd\u001b[0m\u001b[0;34m.\u001b[0m\u001b[0mread_parquet\u001b[0m\u001b[0;34m(\u001b[0m\u001b[0;34m'data/train_data.parquet'\u001b[0m\u001b[0;34m)\u001b[0m\u001b[0;34m\u001b[0m\u001b[0;34m\u001b[0m\u001b[0m\n\u001b[1;32m      3\u001b[0m \u001b[0mval_data\u001b[0m \u001b[0;34m=\u001b[0m \u001b[0mpd\u001b[0m\u001b[0;34m.\u001b[0m\u001b[0mread_parquet\u001b[0m\u001b[0;34m(\u001b[0m\u001b[0;34m'data/val_data.parquet'\u001b[0m\u001b[0;34m)\u001b[0m\u001b[0;34m\u001b[0m\u001b[0;34m\u001b[0m\u001b[0m\n\u001b[0;32m----> 4\u001b[0;31m \u001b[0mtrained_model\u001b[0m\u001b[0;34m,\u001b[0m \u001b[0mtraining_history\u001b[0m \u001b[0;34m=\u001b[0m \u001b[0mtrain\u001b[0m\u001b[0;34m(\u001b[0m\u001b[0mtrain_data\u001b[0m\u001b[0;34m,\u001b[0m \u001b[0mval_data\u001b[0m\u001b[0;34m)\u001b[0m\u001b[0;34m\u001b[0m\u001b[0;34m\u001b[0m\u001b[0m\n\u001b[0m\u001b[1;32m      5\u001b[0m \u001b[0mtrained_model\u001b[0m\u001b[0;34m.\u001b[0m\u001b[0msave_weights\u001b[0m\u001b[0;34m(\u001b[0m\u001b[0;34m'data/missing_imputation.h5'\u001b[0m\u001b[0;34m)\u001b[0m\u001b[0;34m\u001b[0m\u001b[0;34m\u001b[0m\u001b[0m\n",
      "\u001b[0;32m/var/folders/b4/dlbgv7zs05g7w0k53yzn8vz80000gn/T/ipykernel_46955/3871878741.py\u001b[0m in \u001b[0;36mtrain\u001b[0;34m(train, val)\u001b[0m\n\u001b[1;32m     29\u001b[0m         ]\n\u001b[1;32m     30\u001b[0m     )\n\u001b[0;32m---> 31\u001b[0;31m     history = model.fit(\n\u001b[0m\u001b[1;32m     32\u001b[0m         \u001b[0mtrain_features\u001b[0m\u001b[0;34m,\u001b[0m\u001b[0;34m\u001b[0m\u001b[0;34m\u001b[0m\u001b[0m\n\u001b[1;32m     33\u001b[0m         \u001b[0mtrain_label\u001b[0m\u001b[0;34m,\u001b[0m\u001b[0;34m\u001b[0m\u001b[0;34m\u001b[0m\u001b[0m\n",
      "\u001b[0;32m~/opt/anaconda3/lib/python3.9/site-packages/keras/src/utils/traceback_utils.py\u001b[0m in \u001b[0;36merror_handler\u001b[0;34m(*args, **kwargs)\u001b[0m\n\u001b[1;32m     68\u001b[0m             \u001b[0;31m# To get the full stack trace, call:\u001b[0m\u001b[0;34m\u001b[0m\u001b[0;34m\u001b[0m\u001b[0m\n\u001b[1;32m     69\u001b[0m             \u001b[0;31m# `tf.debugging.disable_traceback_filtering()`\u001b[0m\u001b[0;34m\u001b[0m\u001b[0;34m\u001b[0m\u001b[0m\n\u001b[0;32m---> 70\u001b[0;31m             \u001b[0;32mraise\u001b[0m \u001b[0me\u001b[0m\u001b[0;34m.\u001b[0m\u001b[0mwith_traceback\u001b[0m\u001b[0;34m(\u001b[0m\u001b[0mfiltered_tb\u001b[0m\u001b[0;34m)\u001b[0m \u001b[0;32mfrom\u001b[0m \u001b[0;32mNone\u001b[0m\u001b[0;34m\u001b[0m\u001b[0;34m\u001b[0m\u001b[0m\n\u001b[0m\u001b[1;32m     71\u001b[0m         \u001b[0;32mfinally\u001b[0m\u001b[0;34m:\u001b[0m\u001b[0;34m\u001b[0m\u001b[0;34m\u001b[0m\u001b[0m\n\u001b[1;32m     72\u001b[0m             \u001b[0;32mdel\u001b[0m \u001b[0mfiltered_tb\u001b[0m\u001b[0;34m\u001b[0m\u001b[0;34m\u001b[0m\u001b[0m\n",
      "\u001b[0;32m~/opt/anaconda3/lib/python3.9/site-packages/keras/src/engine/training.py\u001b[0m in \u001b[0;36mtf__train_function\u001b[0;34m(iterator)\u001b[0m\n\u001b[1;32m     13\u001b[0m                 \u001b[0;32mtry\u001b[0m\u001b[0;34m:\u001b[0m\u001b[0;34m\u001b[0m\u001b[0;34m\u001b[0m\u001b[0m\n\u001b[1;32m     14\u001b[0m                     \u001b[0mdo_return\u001b[0m \u001b[0;34m=\u001b[0m \u001b[0;32mTrue\u001b[0m\u001b[0;34m\u001b[0m\u001b[0;34m\u001b[0m\u001b[0m\n\u001b[0;32m---> 15\u001b[0;31m                     \u001b[0mretval_\u001b[0m \u001b[0;34m=\u001b[0m \u001b[0mag__\u001b[0m\u001b[0;34m.\u001b[0m\u001b[0mconverted_call\u001b[0m\u001b[0;34m(\u001b[0m\u001b[0mag__\u001b[0m\u001b[0;34m.\u001b[0m\u001b[0mld\u001b[0m\u001b[0;34m(\u001b[0m\u001b[0mstep_function\u001b[0m\u001b[0;34m)\u001b[0m\u001b[0;34m,\u001b[0m \u001b[0;34m(\u001b[0m\u001b[0mag__\u001b[0m\u001b[0;34m.\u001b[0m\u001b[0mld\u001b[0m\u001b[0;34m(\u001b[0m\u001b[0mself\u001b[0m\u001b[0;34m)\u001b[0m\u001b[0;34m,\u001b[0m \u001b[0mag__\u001b[0m\u001b[0;34m.\u001b[0m\u001b[0mld\u001b[0m\u001b[0;34m(\u001b[0m\u001b[0miterator\u001b[0m\u001b[0;34m)\u001b[0m\u001b[0;34m)\u001b[0m\u001b[0;34m,\u001b[0m \u001b[0;32mNone\u001b[0m\u001b[0;34m,\u001b[0m \u001b[0mfscope\u001b[0m\u001b[0;34m)\u001b[0m\u001b[0;34m\u001b[0m\u001b[0;34m\u001b[0m\u001b[0m\n\u001b[0m\u001b[1;32m     16\u001b[0m                 \u001b[0;32mexcept\u001b[0m\u001b[0;34m:\u001b[0m\u001b[0;34m\u001b[0m\u001b[0;34m\u001b[0m\u001b[0m\n\u001b[1;32m     17\u001b[0m                     \u001b[0mdo_return\u001b[0m \u001b[0;34m=\u001b[0m \u001b[0;32mFalse\u001b[0m\u001b[0;34m\u001b[0m\u001b[0;34m\u001b[0m\u001b[0m\n",
      "\u001b[0;31mValueError\u001b[0m: in user code:\n\n    File \"/Users/haoyufu/opt/anaconda3/lib/python3.9/site-packages/keras/src/engine/training.py\", line 1401, in train_function  *\n        return step_function(self, iterator)\n    File \"/Users/haoyufu/opt/anaconda3/lib/python3.9/site-packages/keras/src/engine/training.py\", line 1384, in step_function  **\n        outputs = model.distribute_strategy.run(run_step, args=(data,))\n    File \"/Users/haoyufu/opt/anaconda3/lib/python3.9/site-packages/keras/src/engine/training.py\", line 1373, in run_step  **\n        outputs = model.train_step(data)\n    File \"/Users/haoyufu/opt/anaconda3/lib/python3.9/site-packages/keras/src/engine/training.py\", line 1150, in train_step\n        y_pred = self(x, training=True)\n    File \"/Users/haoyufu/opt/anaconda3/lib/python3.9/site-packages/keras/src/utils/traceback_utils.py\", line 70, in error_handler\n        raise e.with_traceback(filtered_tb) from None\n    File \"/Users/haoyufu/opt/anaconda3/lib/python3.9/site-packages/keras/src/engine/input_spec.py\", line 197, in assert_input_compatibility\n        raise ValueError(\n\n    ValueError: Missing data for input \"tweet_id\". You passed a data dictionary with keys ['user_id', 'year_order']. Expected the following keys: ['tweet_id', 'user_id', 'year_id']\n"
     ]
    }
   ],
   "source": [
    "# run the models\n",
    "train_data = pd.read_parquet('data/train_data.parquet')\n",
    "val_data = pd.read_parquet('data/val_data.parquet')\n",
    "trained_model, training_history = train(train_data, val_data)\n",
    "trained_model.save_weights('data/missing_imputation.h5')"
   ]
  },
  {
   "cell_type": "code",
   "execution_count": null,
   "metadata": {},
   "outputs": [],
   "source": [
    "# model evaluations\n",
    "prediction_model = get_model()\n",
    "prediction_model.load_weights('data/missing_imputation.h5')\n",
    "val_features = {\n",
    "    'user_id': np.array(val_data['yearid_id']),\n",
    "    'year_id': np.array(val_data['year_order'])\n",
    "}\n",
    "pred = prediction_model.predict(val_features)\n",
    "obs = val_data['binarized'].values\n",
    "# roc_auc = roc_auc_score(obs, pred)\n",
    "accuracy = accuracy_score(obs, pred > 0.5)\n",
    "# print(f\"ROC AUC Score: {roc_auc:.3f}\")\n",
    "print(f\"Accuracy Score: {accuracy:.3f}\")"
   ]
  }
 ],
 "metadata": {
  "kernelspec": {
   "display_name": "base",
   "language": "python",
   "name": "python3"
  },
  "language_info": {
   "codemirror_mode": {
    "name": "ipython",
    "version": 3
   },
   "file_extension": ".py",
   "mimetype": "text/x-python",
   "name": "python",
   "nbconvert_exporter": "python",
   "pygments_lexer": "ipython3",
   "version": "3.9.7"
  }
 },
 "nbformat": 4,
 "nbformat_minor": 2
}
