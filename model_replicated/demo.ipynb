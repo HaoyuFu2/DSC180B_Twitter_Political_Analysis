{
 "cells": [
  {
   "cell_type": "markdown",
   "metadata": {},
   "source": [
    "### Data Cleaning"
   ]
  },
  {
   "cell_type": "code",
   "execution_count": 1,
   "metadata": {},
   "outputs": [],
   "source": [
    "%run func_data_cleaning.py"
   ]
  },
  {
   "cell_type": "markdown",
   "metadata": {},
   "source": [
    "### Paper Replication"
   ]
  },
  {
   "cell_type": "code",
   "execution_count": 2,
   "metadata": {},
   "outputs": [
    {
     "name": "stderr",
     "output_type": "stream",
     "text": [
      "2024-03-14 21:47:20.257201: I tensorflow/core/platform/cpu_feature_guard.cc:182] This TensorFlow binary is optimized to use available CPU instructions in performance-critical operations.\n",
      "To enable the following instructions: AVX2 FMA, in other operations, rebuild TensorFlow with the appropriate compiler flags.\n"
     ]
    },
    {
     "data": {
      "application/vnd.jupyter.widget-view+json": {
       "model_id": "85cac2944dbc4187abaec6320d729cf3",
       "version_major": 2,
       "version_minor": 0
      },
      "text/plain": [
       "  0%|          | 0/28 [00:00<?, ?it/s]"
      ]
     },
     "metadata": {},
     "output_type": "display_data"
    },
    {
     "name": "stdout",
     "output_type": "stream",
     "text": [
      "Epoch 1/10\n",
      "4989/4989 [==============================] - 20s 3ms/step - loss: 323260.1250 - auc: 0.5038 - binary_accuracy: 0.5052 - val_loss: 145.7200 - val_auc: 0.5139 - val_binary_accuracy: 0.5050\n",
      "Epoch 2/10\n",
      "4989/4989 [==============================] - 17s 3ms/step - loss: 320.1904 - auc: 0.4988 - binary_accuracy: 0.5003 - val_loss: 5.7940 - val_auc: 0.5932 - val_binary_accuracy: 0.5726\n",
      "Epoch 3/10\n",
      "4989/4989 [==============================] - 16s 3ms/step - loss: 17.4760 - auc: 0.5114 - binary_accuracy: 0.5090 - val_loss: 1.9856 - val_auc: 0.5508 - val_binary_accuracy: 0.5422\n",
      "Epoch 4/10\n",
      "4989/4989 [==============================] - 16s 3ms/step - loss: 4.1029 - auc: 0.5236 - binary_accuracy: 0.5166 - val_loss: 1.1743 - val_auc: 0.5985 - val_binary_accuracy: 0.5622\n",
      "Epoch 5/10\n",
      "4989/4989 [==============================] - 17s 4ms/step - loss: 1.6987 - auc: 0.5256 - binary_accuracy: 0.5224 - val_loss: 0.7465 - val_auc: 0.5253 - val_binary_accuracy: 0.5214\n",
      "Epoch 6/10\n",
      "4989/4989 [==============================] - 18s 4ms/step - loss: 1.3150 - auc: 0.5323 - binary_accuracy: 0.5305 - val_loss: 0.6994 - val_auc: 0.5877 - val_binary_accuracy: 0.5372\n",
      "Epoch 7/10\n",
      "4989/4989 [==============================] - 17s 4ms/step - loss: 0.8352 - auc: 0.5322 - binary_accuracy: 0.5305 - val_loss: 0.6970 - val_auc: 0.5854 - val_binary_accuracy: 0.5120\n",
      "Epoch 8/10\n",
      "4989/4989 [==============================] - 17s 3ms/step - loss: 0.9347 - auc: 0.5243 - binary_accuracy: 0.5247 - val_loss: 0.6890 - val_auc: 0.5587 - val_binary_accuracy: 0.5250\n",
      "Epoch 9/10\n",
      "4989/4989 [==============================] - 17s 3ms/step - loss: 0.7591 - auc: 0.5301 - binary_accuracy: 0.5252 - val_loss: 0.6865 - val_auc: 0.6005 - val_binary_accuracy: 0.5492\n",
      "Epoch 10/10\n",
      "4989/4989 [==============================] - 16s 3ms/step - loss: 0.7377 - auc: 0.5322 - binary_accuracy: 0.5267 - val_loss: 0.6764 - val_auc: 0.6265 - val_binary_accuracy: 0.5934\n",
      "139/139 [==============================] - 0s 1ms/step\n",
      "ROC AUC Score: 0.627\n",
      "Accuracy Score: 0.593\n"
     ]
    }
   ],
   "source": [
    "%run demo_paper_replication.py"
   ]
  }
 ],
 "metadata": {
  "kernelspec": {
   "display_name": "base",
   "language": "python",
   "name": "python3"
  },
  "language_info": {
   "codemirror_mode": {
    "name": "ipython",
    "version": 3
   },
   "file_extension": ".py",
   "mimetype": "text/x-python",
   "name": "python",
   "nbconvert_exporter": "python",
   "pygments_lexer": "ipython3",
   "version": "3.9.7"
  }
 },
 "nbformat": 4,
 "nbformat_minor": 2
}
