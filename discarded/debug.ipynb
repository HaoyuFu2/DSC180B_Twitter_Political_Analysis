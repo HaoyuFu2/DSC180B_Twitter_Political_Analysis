{
 "cells": [
  {
   "cell_type": "code",
   "execution_count": 1,
   "metadata": {},
   "outputs": [
    {
     "name": "stderr",
     "output_type": "stream",
     "text": [
      "2024-03-14 16:25:25.878265: I tensorflow/core/platform/cpu_feature_guard.cc:182] This TensorFlow binary is optimized to use available CPU instructions in performance-critical operations.\n",
      "To enable the following instructions: AVX2 FMA, in other operations, rebuild TensorFlow with the appropriate compiler flags.\n"
     ]
    }
   ],
   "source": [
    "import os\n",
    "import pickle\n",
    "import torch\n",
    "import random\n",
    "import numpy as np\n",
    "import pandas as pd\n",
    "import tensorflow as tf\n",
    "from tqdm.auto import tqdm\n",
    "from tensorflow.keras import Model\n",
    "import tensorflow_recommenders as tfrs\n",
    "from sklearn.preprocessing import LabelEncoder\n",
    "from sklearn.model_selection import train_test_split\n",
    "from sklearn.metrics import roc_auc_score, accuracy_score\n",
    "from transformers import AutoTokenizer, AutoModelForCausalLM\n",
    "from tensorflow.keras.layers import Input, Dense, Dropout, Embedding, Reshape"
   ]
  },
  {
   "cell_type": "code",
   "execution_count": 2,
   "metadata": {},
   "outputs": [],
   "source": [
    "# set seeds in order to get consistent random results\n",
    "os.environ['PYTHONHASHSEED'] = str(42)\n",
    "random.seed(42)\n",
    "np.random.seed(42)\n",
    "torch.manual_seed(42)\n",
    "tqdm.pandas()"
   ]
  },
  {
   "cell_type": "code",
   "execution_count": 3,
   "metadata": {},
   "outputs": [],
   "source": [
    "# build the models\n",
    "def get_model(df, dim=50):\n",
    "    weights = np.vstack(pickle.load(open('gpt2_embeddings.pkl', 'rb')))\n",
    "    user_id = Input(name='user_id', shape=(1, ))\n",
    "    year_id = Input(name='year_id', shape=(1, ))\n",
    "    tweet_id = Input(name='tweet_id', shape=(1, ))\n",
    "\n",
    "    # first embedding: user's label\n",
    "    x1 = Embedding(df['user_id'].max() + 1, dim, name='user_embedding')(user_id)\n",
    "    x1 = Reshape((dim, ), name='reshape1')(x1)\n",
    "\n",
    "    # second embedding: tweet\n",
    "    tweet_embedding = Embedding(weights.shape[0], weights.shape[1], weights=[weights], trainable=False, name='tweet_embedding')(tweet_id)\n",
    "    x2 = Dense(dim, name='tweet_embedding2')(tweet_embedding) \n",
    "    x2 = Reshape((dim, ), name='reshape2')(x2)\n",
    "\n",
    "    # third embeddings: year\n",
    "    x3 = Embedding(df['year_id'].max() + 1, dim, name='year_embedding')(year_id)\n",
    "    x3 = Reshape((dim, ), name='reshape3')(x3)\n",
    "\n",
    "    # combine the above three embeddings\n",
    "    x = [x1, x2, x3]\n",
    "    x = tf.concat(x, axis=1, name='concat1')\n",
    "    for i in range(3):\n",
    "        x = tfrs.layers.dcn.Cross(projection_dim=dim*3, kernel_initializer=\"glorot_uniform\", name=f'cross_layer_{i}')(x)\n",
    "        x = Dropout(0.2)(x)\n",
    "    for i in range(3):\n",
    "        x = Dense(dim*3, activation=\"relu\", name=f'dense_layer_{i}')(x)\n",
    "        x = Dropout(0.2)(x)\n",
    "    \n",
    "    # generate predictions\n",
    "    out = Dense(1, activation='sigmoid', name=\"out\")(x)\n",
    "\n",
    "    # model building\n",
    "    inputs = {'user_id': user_id, 'tweet_id': tweet_id, 'year_id': year_id}\n",
    "    model = Model(inputs=inputs, outputs=out)\n",
    "    return model"
   ]
  },
  {
   "cell_type": "code",
   "execution_count": 4,
   "metadata": {},
   "outputs": [],
   "source": [
    "# model training\n",
    "def train(df, train, val):\n",
    "    model = get_model(df)\n",
    "    # make the features for training and validating sets\n",
    "    train_features = {\n",
    "        'user_id': np.array(train['user_id']),\n",
    "        'tweet_id': np.array(train['tweet_id']),\n",
    "        'year_id': np.array(train['year_id'])\n",
    "    }\n",
    "    val_features = {\n",
    "        'user_id': np.array(val['user_id']),\n",
    "        'tweet_id': np.array(val['tweet_id']),\n",
    "        'year_id': np.array(val['year_id'])\n",
    "    }\n",
    "    train_label = np.array(train['label'])\n",
    "    val_label = np.array(val['label'])\n",
    "\n",
    "    # model compiling\n",
    "    lr_schedule = tf.keras.optimizers.schedules.ExponentialDecay(\n",
    "        initial_learning_rate=2e-5,\n",
    "        decay_steps=80000,\n",
    "        decay_rate=0.96,\n",
    "        staircase=True\n",
    "    )\n",
    "    model.compile(\n",
    "        optimizer=tf.keras.optimizers.Adam(learning_rate=lr_schedule),\n",
    "        loss=tf.keras.losses.BinaryCrossentropy(),\n",
    "        metrics=[\n",
    "            tf.keras.metrics.AUC(),\n",
    "            tf.keras.metrics.BinaryAccuracy()\n",
    "        ]\n",
    "    )\n",
    "    history = model.fit(\n",
    "        train_features,\n",
    "        train_label,\n",
    "        validation_data=(val_features, val_label),\n",
    "        batch_size=8,\n",
    "        epochs=10,\n",
    "        verbose=1,\n",
    "        use_multiprocessing=True,\n",
    "        workers=20\n",
    "    )\n",
    "\n",
    "    return model, history"
   ]
  },
  {
   "cell_type": "code",
   "execution_count": 5,
   "metadata": {},
   "outputs": [],
   "source": [
    "def run_model(file_path='data/labels.parquet', size=1000):\n",
    "\n",
    "    # load data\n",
    "    df = pd.read_parquet(file_path)[:size].drop_duplicates(subset=['tweet'])\n",
    "\n",
    "    # encode labels\n",
    "    le = LabelEncoder()\n",
    "    df['user_id'] = le.fit_transform(df['user_id'])\n",
    "    df['year_id'] = le.fit_transform(df['year'])\n",
    "    df['tweet_id'] = le.fit_transform(df['tweet'])\n",
    "\n",
    "    # split dataset\n",
    "    (train_data, val_data) = train_test_split(df, test_size=0.1)\n",
    "    train_data.to_parquet('data/train_data.parquet')\n",
    "    val_data.to_parquet('data/val_data.parquet')\n",
    "\n",
    "    # make embeddings\n",
    "    tokenizer = AutoTokenizer.from_pretrained('gpt2')\n",
    "    model = AutoModelForCausalLM.from_pretrained('gpt2')\n",
    "    tweet_list = df['tweet'].drop_duplicates().tolist()\n",
    "    embeddings = []\n",
    "\n",
    "    for tweet in tqdm(tweet_list):\n",
    "        prompt = \\\n",
    "            '''Below is a Tweet that discusses the Presidential Election. Write a response that appropriately describes the author's political position.\n",
    "    '''\n",
    "        prompt += f\"### Tweet:{tweet}\\n\\n### Response:\"\n",
    "        input_ids = torch.tensor(tokenizer.encode(prompt)).unsqueeze(0)\n",
    "        outputs = model(input_ids, output_hidden_states=True)\n",
    "        embeddings.append(outputs.hidden_states[-1][:, -1, :].detach().numpy())\n",
    "    pickle.dump(embeddings, open('gpt2_embeddings.pkl', 'wb'))\n",
    "\n",
    "    # run the models\n",
    "    train_data = pd.read_parquet('data/train_data.parquet')\n",
    "    val_data = pd.read_parquet('data/val_data.parquet')\n",
    "    trained_model, training_history = train(df, train_data, val_data)\n",
    "    trained_model.save_weights('data/weights.h5')\n",
    "\n",
    "    # model evaluations\n",
    "    prediction_model = get_model(df)\n",
    "    prediction_model.load_weights('data/weights.h5')\n",
    "    val_features = {\n",
    "        'user_id': np.array(val_data['user_id']),\n",
    "        'tweet_id': np.array(val_data['tweet_id']),\n",
    "        'year_id': np.array(val_data['year_id'])\n",
    "    }\n",
    "    pred = prediction_model.predict(val_features)\n",
    "    obs = val_data['label'].values\n",
    "    # roc_auc = roc_auc_score(obs, pred)\n",
    "    accuracy = accuracy_score(obs, pred > 0.5)\n",
    "    # print(f\"ROC AUC Score: {roc_auc:.3f}\")\n",
    "    print(f\"Accuracy Score: {accuracy:.3f}\")\n",
    "\n",
    "    return training_history"
   ]
  },
  {
   "cell_type": "code",
   "execution_count": 6,
   "metadata": {},
   "outputs": [
    {
     "data": {
      "application/vnd.jupyter.widget-view+json": {
       "model_id": "598c3094e4ba4b1d855540e7d716fde0",
       "version_major": 2,
       "version_minor": 0
      },
      "text/plain": [
       "  0%|          | 0/988 [00:00<?, ?it/s]"
      ]
     },
     "metadata": {},
     "output_type": "display_data"
    },
    {
     "name": "stdout",
     "output_type": "stream",
     "text": [
      "Epoch 1/10\n",
      "112/112 [==============================] - 3s 7ms/step - loss: 1845744.7500 - auc: 0.5449 - binary_accuracy: 0.5444 - val_loss: 19460.6777 - val_auc: 0.5000 - val_binary_accuracy: 0.9899\n",
      "Epoch 2/10\n",
      "112/112 [==============================] - 0s 2ms/step - loss: 341262.4062 - auc: 0.3867 - binary_accuracy: 0.7638 - val_loss: 22520.1035 - val_auc: 0.5000 - val_binary_accuracy: 0.9899\n",
      "Epoch 3/10\n",
      "112/112 [==============================] - 0s 4ms/step - loss: 148812.6094 - auc: 0.4777 - binary_accuracy: 0.8549 - val_loss: 19912.0449 - val_auc: 0.5000 - val_binary_accuracy: 0.9899\n",
      "Epoch 4/10\n",
      "112/112 [==============================] - 0s 4ms/step - loss: 91831.7812 - auc: 0.4499 - binary_accuracy: 0.8886 - val_loss: 18177.8359 - val_auc: 0.5000 - val_binary_accuracy: 0.9899\n",
      "Epoch 5/10\n",
      "112/112 [==============================] - 0s 2ms/step - loss: 55877.0117 - auc: 0.4630 - binary_accuracy: 0.9145 - val_loss: 17597.0195 - val_auc: 0.5000 - val_binary_accuracy: 0.9899\n",
      "Epoch 6/10\n",
      "112/112 [==============================] - 0s 3ms/step - loss: 57930.0820 - auc: 0.4590 - binary_accuracy: 0.9066 - val_loss: 14999.5938 - val_auc: 0.5000 - val_binary_accuracy: 0.9899\n",
      "Epoch 7/10\n",
      "112/112 [==============================] - 0s 3ms/step - loss: 44420.2969 - auc: 0.4710 - binary_accuracy: 0.9303 - val_loss: 13325.5215 - val_auc: 0.5000 - val_binary_accuracy: 0.9899\n",
      "Epoch 8/10\n",
      "112/112 [==============================] - 0s 2ms/step - loss: 28004.1758 - auc: 0.5176 - binary_accuracy: 0.9336 - val_loss: 11894.5332 - val_auc: 0.5000 - val_binary_accuracy: 0.9899\n",
      "Epoch 9/10\n",
      "112/112 [==============================] - 0s 3ms/step - loss: 17482.9570 - auc: 0.5158 - binary_accuracy: 0.9303 - val_loss: 11203.5430 - val_auc: 0.5000 - val_binary_accuracy: 0.9899\n",
      "Epoch 10/10\n",
      "112/112 [==============================] - 0s 3ms/step - loss: 32890.9023 - auc: 0.4715 - binary_accuracy: 0.9314 - val_loss: 9543.7988 - val_auc: 0.5000 - val_binary_accuracy: 0.9899\n",
      "4/4 [==============================] - 0s 1ms/step\n",
      "Accuracy Score: 0.990\n"
     ]
    },
    {
     "data": {
      "text/plain": [
       "<keras.src.callbacks.History at 0x7fc4672fbc10>"
      ]
     },
     "execution_count": 6,
     "metadata": {},
     "output_type": "execute_result"
    }
   ],
   "source": [
    "run_model()"
   ]
  }
 ],
 "metadata": {
  "kernelspec": {
   "display_name": "base",
   "language": "python",
   "name": "python3"
  },
  "language_info": {
   "codemirror_mode": {
    "name": "ipython",
    "version": 3
   },
   "file_extension": ".py",
   "mimetype": "text/x-python",
   "name": "python",
   "nbconvert_exporter": "python",
   "pygments_lexer": "ipython3",
   "version": "3.9.7"
  }
 },
 "nbformat": 4,
 "nbformat_minor": 2
}
