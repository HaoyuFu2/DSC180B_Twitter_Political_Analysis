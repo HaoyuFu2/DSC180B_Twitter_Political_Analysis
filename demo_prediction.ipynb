{
 "cells": [
  {
   "cell_type": "code",
   "execution_count": 1,
   "metadata": {},
   "outputs": [
    {
     "name": "stderr",
     "output_type": "stream",
     "text": [
      "2024-03-14 16:31:41.552865: I tensorflow/core/platform/cpu_feature_guard.cc:182] This TensorFlow binary is optimized to use available CPU instructions in performance-critical operations.\n",
      "To enable the following instructions: AVX2 FMA, in other operations, rebuild TensorFlow with the appropriate compiler flags.\n"
     ]
    }
   ],
   "source": [
    "import func_LLM_pred" 
   ]
  },
  {
   "cell_type": "code",
   "execution_count": 3,
   "metadata": {},
   "outputs": [
    {
     "data": {
      "application/vnd.jupyter.widget-view+json": {
       "model_id": "5e09dfcdcaca488c9e309bbe6993f942",
       "version_major": 2,
       "version_minor": 0
      },
      "text/plain": [
       "  0%|          | 0/988 [00:00<?, ?it/s]"
      ]
     },
     "metadata": {},
     "output_type": "display_data"
    },
    {
     "name": "stdout",
     "output_type": "stream",
     "text": [
      "Epoch 1/10\n",
      "112/112 [==============================] - 3s 6ms/step - loss: 1797153.7500 - auc: 0.6432 - binary_accuracy: 0.5613 - val_loss: 19189.4277 - val_auc: 0.5000 - val_binary_accuracy: 0.9899\n",
      "Epoch 2/10\n",
      "112/112 [==============================] - 0s 3ms/step - loss: 255507.0938 - auc: 0.3924 - binary_accuracy: 0.7750 - val_loss: 17950.2441 - val_auc: 0.5000 - val_binary_accuracy: 0.9899\n",
      "Epoch 3/10\n",
      "112/112 [==============================] - 0s 3ms/step - loss: 124812.6094 - auc: 0.4914 - binary_accuracy: 0.8819 - val_loss: 19664.3887 - val_auc: 0.5000 - val_binary_accuracy: 0.9899\n",
      "Epoch 4/10\n",
      "112/112 [==============================] - 0s 4ms/step - loss: 64446.3984 - auc: 0.4970 - binary_accuracy: 0.8931 - val_loss: 17803.0684 - val_auc: 0.5000 - val_binary_accuracy: 0.9899\n",
      "Epoch 5/10\n",
      "112/112 [==============================] - 0s 3ms/step - loss: 54024.8672 - auc: 0.5045 - binary_accuracy: 0.9078 - val_loss: 17141.2695 - val_auc: 0.5000 - val_binary_accuracy: 0.9899\n",
      "Epoch 6/10\n",
      "112/112 [==============================] - 0s 3ms/step - loss: 56912.3242 - auc: 0.5073 - binary_accuracy: 0.9134 - val_loss: 14022.2275 - val_auc: 0.5000 - val_binary_accuracy: 0.9899\n",
      "Epoch 7/10\n",
      "112/112 [==============================] - 0s 3ms/step - loss: 41546.1406 - auc: 0.5176 - binary_accuracy: 0.9336 - val_loss: 12130.8115 - val_auc: 0.5000 - val_binary_accuracy: 0.9899\n",
      "Epoch 8/10\n",
      "112/112 [==============================] - 0s 3ms/step - loss: 32502.0547 - auc: 0.4749 - binary_accuracy: 0.9381 - val_loss: 9858.6895 - val_auc: 0.5000 - val_binary_accuracy: 0.9899\n",
      "Epoch 9/10\n",
      "112/112 [==============================] - 0s 2ms/step - loss: 24118.7539 - auc: 0.4767 - binary_accuracy: 0.9415 - val_loss: 9003.8457 - val_auc: 0.5000 - val_binary_accuracy: 0.9899\n",
      "Epoch 10/10\n",
      "112/112 [==============================] - 0s 3ms/step - loss: 22010.6094 - auc: 0.4778 - binary_accuracy: 0.9438 - val_loss: 8021.4868 - val_auc: 0.5000 - val_binary_accuracy: 0.9899\n",
      "4/4 [==============================] - 0s 2ms/step\n",
      "Accuracy Score: 0.990\n"
     ]
    },
    {
     "data": {
      "text/plain": [
       "<keras.src.callbacks.History at 0x7fd4ebb6a6a0>"
      ]
     },
     "execution_count": 3,
     "metadata": {},
     "output_type": "execute_result"
    }
   ],
   "source": [
    "parquet_file = 'data/labels.parquet'\n",
    "func_LLM_pred.run_model(parquet_file)"
   ]
  }
 ],
 "metadata": {
  "kernelspec": {
   "display_name": "base",
   "language": "python",
   "name": "python3"
  },
  "language_info": {
   "codemirror_mode": {
    "name": "ipython",
    "version": 3
   },
   "file_extension": ".py",
   "mimetype": "text/x-python",
   "name": "python",
   "nbconvert_exporter": "python",
   "pygments_lexer": "ipython3",
   "version": "3.9.7"
  }
 },
 "nbformat": 4,
 "nbformat_minor": 2
}
