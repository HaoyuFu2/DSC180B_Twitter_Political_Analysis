{
 "cells": [
  {
   "cell_type": "code",
   "execution_count": 1,
   "metadata": {},
   "outputs": [
    {
     "name": "stderr",
     "output_type": "stream",
     "text": [
      "2024-03-14 22:39:28.161759: I tensorflow/core/platform/cpu_feature_guard.cc:182] This TensorFlow binary is optimized to use available CPU instructions in performance-critical operations.\n",
      "To enable the following instructions: AVX2 FMA, in other operations, rebuild TensorFlow with the appropriate compiler flags.\n"
     ]
    }
   ],
   "source": [
    "import func_LLM_pred"
   ]
  },
  {
   "cell_type": "code",
   "execution_count": 2,
   "metadata": {},
   "outputs": [
    {
     "data": {
      "application/vnd.jupyter.widget-view+json": {
       "model_id": "246463f63a1f4b23b7486812c6912fa8",
       "version_major": 2,
       "version_minor": 0
      },
      "text/plain": [
       "  0%|          | 0/988 [00:00<?, ?it/s]"
      ]
     },
     "metadata": {},
     "output_type": "display_data"
    },
    {
     "name": "stdout",
     "output_type": "stream",
     "text": [
      "Epoch 1/10\n",
      "28/28 [==============================] - 1s 11ms/step - loss: 1.4288 - accuracy: 0.5309 - val_loss: 0.6513 - val_accuracy: 0.6465\n",
      "Epoch 2/10\n",
      "28/28 [==============================] - 0s 3ms/step - loss: 0.7767 - accuracy: 0.5489 - val_loss: 0.6534 - val_accuracy: 0.6465\n",
      "Epoch 3/10\n",
      "28/28 [==============================] - 0s 4ms/step - loss: 0.6853 - accuracy: 0.6029 - val_loss: 0.6509 - val_accuracy: 0.6465\n",
      "Epoch 4/10\n",
      "28/28 [==============================] - 0s 3ms/step - loss: 0.6660 - accuracy: 0.6029 - val_loss: 0.6353 - val_accuracy: 0.6465\n",
      "Epoch 5/10\n",
      "28/28 [==============================] - 0s 3ms/step - loss: 0.6372 - accuracy: 0.6400 - val_loss: 0.6029 - val_accuracy: 0.6465\n",
      "Epoch 6/10\n",
      "28/28 [==============================] - 0s 4ms/step - loss: 0.6009 - accuracy: 0.6558 - val_loss: 0.5639 - val_accuracy: 0.7172\n",
      "Epoch 7/10\n",
      "28/28 [==============================] - 0s 3ms/step - loss: 0.5246 - accuracy: 0.7357 - val_loss: 0.5176 - val_accuracy: 0.7374\n",
      "Epoch 8/10\n",
      "28/28 [==============================] - 0s 3ms/step - loss: 0.3750 - accuracy: 0.8425 - val_loss: 0.6259 - val_accuracy: 0.7475\n",
      "Epoch 9/10\n",
      "28/28 [==============================] - 0s 3ms/step - loss: 0.3202 - accuracy: 0.8718 - val_loss: 0.5427 - val_accuracy: 0.7475\n",
      "Epoch 10/10\n",
      "28/28 [==============================] - 0s 3ms/step - loss: 0.2616 - accuracy: 0.8954 - val_loss: 0.6022 - val_accuracy: 0.7475\n",
      "4/4 [==============================] - 0s 11ms/step\n",
      "Accuracy Score: 0.747\n"
     ]
    },
    {
     "data": {
      "text/plain": [
       "(<keras.src.engine.functional.Functional at 0x7fa7c056aa90>,\n",
       " <keras.src.callbacks.History at 0x7fa7c073ad30>)"
      ]
     },
     "execution_count": 2,
     "metadata": {},
     "output_type": "execute_result"
    }
   ],
   "source": [
    "parquet_file = 'data/labels.parquet'\n",
    "func_LLM_pred.run_model(parquet_file)"
   ]
  }
 ],
 "metadata": {
  "kernelspec": {
   "display_name": "base",
   "language": "python",
   "name": "python3"
  },
  "language_info": {
   "codemirror_mode": {
    "name": "ipython",
    "version": 3
   },
   "file_extension": ".py",
   "mimetype": "text/x-python",
   "name": "python",
   "nbconvert_exporter": "python",
   "pygments_lexer": "ipython3",
   "version": "3.9.7"
  }
 },
 "nbformat": 4,
 "nbformat_minor": 2
}
