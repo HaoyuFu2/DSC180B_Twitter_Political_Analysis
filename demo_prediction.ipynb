{
 "cells": [
  {
   "cell_type": "code",
   "execution_count": 1,
   "metadata": {},
   "outputs": [
    {
     "name": "stderr",
     "output_type": "stream",
     "text": [
      "2024-03-14 22:21:10.398689: I tensorflow/core/platform/cpu_feature_guard.cc:182] This TensorFlow binary is optimized to use available CPU instructions in performance-critical operations.\n",
      "To enable the following instructions: AVX2 FMA, in other operations, rebuild TensorFlow with the appropriate compiler flags.\n"
     ]
    }
   ],
   "source": [
    "import func_LLM_pred"
   ]
  },
  {
   "cell_type": "code",
   "execution_count": 2,
   "metadata": {},
   "outputs": [
    {
     "data": {
      "application/vnd.jupyter.widget-view+json": {
       "model_id": "c17e2a8f54ea463fa2678db89ff01899",
       "version_major": 2,
       "version_minor": 0
      },
      "text/plain": [
       "  0%|          | 0/988 [00:00<?, ?it/s]"
      ]
     },
     "metadata": {},
     "output_type": "display_data"
    },
    {
     "name": "stdout",
     "output_type": "stream",
     "text": [
      "Epoch 1/10\n",
      "28/28 [==============================] - 1s 10ms/step - loss: 1.3223 - accuracy: 0.5692 - val_loss: 0.6700 - val_accuracy: 0.6566\n",
      "Epoch 2/10\n",
      "28/28 [==============================] - 0s 3ms/step - loss: 0.7580 - accuracy: 0.5681 - val_loss: 0.6439 - val_accuracy: 0.6465\n",
      "Epoch 3/10\n",
      "28/28 [==============================] - 0s 3ms/step - loss: 0.6962 - accuracy: 0.5804 - val_loss: 0.6492 - val_accuracy: 0.6465\n",
      "Epoch 4/10\n",
      "28/28 [==============================] - 0s 3ms/step - loss: 0.6753 - accuracy: 0.6142 - val_loss: 0.6370 - val_accuracy: 0.6465\n",
      "Epoch 5/10\n",
      "28/28 [==============================] - 0s 3ms/step - loss: 0.6472 - accuracy: 0.6288 - val_loss: 0.6167 - val_accuracy: 0.6566\n",
      "Epoch 6/10\n",
      "28/28 [==============================] - 0s 3ms/step - loss: 0.6029 - accuracy: 0.6738 - val_loss: 0.6644 - val_accuracy: 0.6465\n",
      "Epoch 7/10\n",
      "28/28 [==============================] - 0s 4ms/step - loss: 0.5380 - accuracy: 0.7278 - val_loss: 0.5307 - val_accuracy: 0.7172\n",
      "Epoch 8/10\n",
      "28/28 [==============================] - 0s 4ms/step - loss: 0.4124 - accuracy: 0.8346 - val_loss: 0.4726 - val_accuracy: 0.7273\n",
      "Epoch 9/10\n",
      "28/28 [==============================] - 0s 4ms/step - loss: 0.2930 - accuracy: 0.8774 - val_loss: 0.5025 - val_accuracy: 0.7172\n",
      "Epoch 10/10\n",
      "28/28 [==============================] - 0s 2ms/step - loss: 0.2155 - accuracy: 0.9190 - val_loss: 0.5963 - val_accuracy: 0.7273\n",
      "4/4 [==============================] - 0s 2ms/step\n",
      "Accuracy Score: 0.727\n"
     ]
    },
    {
     "data": {
      "text/plain": [
       "(<keras.src.engine.functional.Functional at 0x7f95b3332fa0>,\n",
       " <keras.src.callbacks.History at 0x7f95a2b649d0>)"
      ]
     },
     "execution_count": 2,
     "metadata": {},
     "output_type": "execute_result"
    }
   ],
   "source": [
    "parquet_file = 'data/labels.parquet'\n",
    "func_LLM_pred.run_model(parquet_file)"
   ]
  }
 ],
 "metadata": {
  "kernelspec": {
   "display_name": "base",
   "language": "python",
   "name": "python3"
  },
  "language_info": {
   "codemirror_mode": {
    "name": "ipython",
    "version": 3
   },
   "file_extension": ".py",
   "mimetype": "text/x-python",
   "name": "python",
   "nbconvert_exporter": "python",
   "pygments_lexer": "ipython3",
   "version": "3.9.7"
  }
 },
 "nbformat": 4,
 "nbformat_minor": 2
}
