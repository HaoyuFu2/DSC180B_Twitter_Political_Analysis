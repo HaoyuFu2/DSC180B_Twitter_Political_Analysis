{
 "cells": [
  {
   "cell_type": "code",
   "execution_count": 11,
   "metadata": {},
   "outputs": [],
   "source": [
    "import os\n",
    "import pickle\n",
    "import torch\n",
    "import random\n",
    "import numpy as np\n",
    "import pandas as pd\n",
    "import tensorflow as tf\n",
    "from tqdm.auto import tqdm\n",
    "from tensorflow.keras import Model\n",
    "import tensorflow_recommenders as tfrs\n",
    "from sklearn.preprocessing import LabelEncoder\n",
    "from sklearn.model_selection import train_test_split\n",
    "from sklearn.metrics import roc_auc_score, accuracy_score, f1_score\n",
    "from transformers import AutoTokenizer, AutoModelForCausalLM\n",
    "from tensorflow.keras.layers import Input, Dense, Dropout, Embedding, Reshape"
   ]
  },
  {
   "cell_type": "code",
   "execution_count": 2,
   "metadata": {},
   "outputs": [],
   "source": [
    "# set seeds in order to get consistent random results\n",
    "os.environ['PYTHONHASHSEED'] = str(42)\n",
    "random.seed(42)\n",
    "np.random.seed(42)\n",
    "torch.manual_seed(42)\n",
    "tqdm.pandas()\n",
    "\n",
    "# load data\n",
    "df = pd.read_parquet('data/labels.parquet')"
   ]
  },
  {
   "cell_type": "code",
   "execution_count": 3,
   "metadata": {},
   "outputs": [],
   "source": [
    "# encode labels\n",
    "le = LabelEncoder()\n",
    "df['yearid_id'] = le.fit_transform(df['yearid'])\n",
    "df['question_id'] = le.fit_transform(df['variable'])\n",
    "df['year'] = df['yearid'] // 10000\n",
    "df['year_order'] = le.fit_transform(df['year'])\n",
    "\n",
    "# split dataset\n",
    "(train_data, val_data) = train_test_split(df, test_size=0.5)\n",
    "train_data.to_parquet('data/train_data.parquet')\n",
    "val_data.to_parquet('data/val_data.parquet')"
   ]
  },
  {
   "cell_type": "code",
   "execution_count": 4,
   "metadata": {},
   "outputs": [
    {
     "data": {
      "application/vnd.jupyter.widget-view+json": {
       "model_id": "86ea1fcecff7491a97377d07f29b5f13",
       "version_major": 2,
       "version_minor": 0
      },
      "text/plain": [
       "  0%|          | 0/1 [00:00<?, ?it/s]"
      ]
     },
     "metadata": {},
     "output_type": "display_data"
    }
   ],
   "source": [
    "# make embeddings\n",
    "tokenizer = AutoTokenizer.from_pretrained('gpt2')\n",
    "model = AutoModelForCausalLM.from_pretrained('gpt2')\n",
    "question_list = df[['question_id', 'question'\n",
    "                   ]].drop_duplicates().sort_values('question_id'\n",
    "        )['question'].tolist()\n",
    "embeddings = []\n",
    "for question in tqdm(question_list):\n",
    "    prompt = \\\n",
    "        '''Below is an instruction that describes a task. Write a response that appropriately completes the request.\n",
    "\n",
    "'''\n",
    "    prompt += f\"### Instruction:{question}\\n\\n### Response:\"\n",
    "    input_ids = torch.tensor(tokenizer.encode(prompt)).unsqueeze(0)\n",
    "    outputs = model(input_ids, output_hidden_states=True)\n",
    "    embeddings.append(outputs.hidden_states[-1][:, -1, :\n",
    "                      ].detach().numpy())\n",
    "pickle.dump(embeddings, open('gpt2_embeddings.pkl', 'wb'))"
   ]
  },
  {
   "cell_type": "code",
   "execution_count": 5,
   "metadata": {},
   "outputs": [],
   "source": [
    "# build the models\n",
    "def get_model(dim=50):\n",
    "    weights = np.vstack(pickle.load(open('gpt2_embeddings.pkl', 'rb')))\n",
    "    individual_id = Input(name='individual_id', shape=(1, ))\n",
    "    question_id = Input(name='question_id', shape=(1, ))\n",
    "    year_id = Input(name='year_id', shape=(1, ))\n",
    "\n",
    "    # first embedding: individual belief (the binary responses)\n",
    "    x1 = Embedding(df['yearid_id'].max() + 1, dim, name='individual_embedding')(individual_id)\n",
    "    x1 = Reshape((dim, ), name='reshape1')(x1)\n",
    "\n",
    "    # second embedding: questions\n",
    "    question_embedding = Embedding(weights.shape[0], weights.shape[1], weights=[weights], trainable=False, name='question_embedding')(question_id)\n",
    "    x2 = Dense(dim, name='question_embedding2')(question_embedding) \n",
    "    x2 = Reshape((dim, ), name='reshape2')(x2)\n",
    "\n",
    "    # third embeddings: the time (year) of the response\n",
    "    x3 = Embedding(df['year_order'].max() + 1, dim, name='year_embedding')(year_id)\n",
    "    x3 = Reshape((dim, ), name='reshape3')(x3)\n",
    "\n",
    "    # combine the above three embeddings\n",
    "    x = [x1, x2, x3]\n",
    "    x = tf.concat(x, axis=1, name='concat1')\n",
    "    for i in range(3):\n",
    "        x = tfrs.layers.dcn.Cross(projection_dim=dim*3, kernel_initializer=\"glorot_uniform\", name=f'cross_layer_{i}')(x)\n",
    "        x = Dropout(0.2)(x)\n",
    "    for i in range(3):\n",
    "        x = Dense(dim*3, activation=\"relu\", name=f'dense_layer_{i}')(x)\n",
    "        x = Dropout(0.2)(x)\n",
    "    \n",
    "    # generate predictions\n",
    "    out = Dense(1, activation='sigmoid', name=\"out\")(x)\n",
    "\n",
    "    # model building\n",
    "    inputs = {'individual_id': individual_id, 'question_id': question_id, 'year_id': year_id}\n",
    "    model = Model(inputs=inputs, outputs=out)\n",
    "    return model"
   ]
  },
  {
   "cell_type": "code",
   "execution_count": 6,
   "metadata": {},
   "outputs": [],
   "source": [
    "# model training\n",
    "def train(train, val):\n",
    "    model = get_model()\n",
    "    # make the features for training and validating sets\n",
    "    train_features = {\n",
    "        'individual_id': np.array(train['yearid_id']),\n",
    "        'question_id': np.array(train['question_id']),\n",
    "        'year_id': np.array(train['year_order'])\n",
    "    }\n",
    "    val_features = {\n",
    "        'individual_id': np.array(val['yearid_id']),\n",
    "        'question_id': np.array(val['question_id']),\n",
    "        'year_id': np.array(val['year_order'])\n",
    "    }\n",
    "    train_label = np.array(train['binarized'])\n",
    "    val_label = np.array(val['binarized'])\n",
    "\n",
    "    # model compiling\n",
    "    lr_schedule = tf.keras.optimizers.schedules.ExponentialDecay(\n",
    "        initial_learning_rate=2e-5,\n",
    "        decay_steps=80000,\n",
    "        decay_rate=0.96,\n",
    "        staircase=True\n",
    "    )\n",
    "    model.compile(\n",
    "        optimizer=tf.keras.optimizers.Adam(learning_rate=lr_schedule),\n",
    "        loss=tf.keras.losses.BinaryCrossentropy(),\n",
    "        metrics=[\n",
    "            tf.keras.metrics.AUC(),\n",
    "            tf.keras.metrics.BinaryAccuracy()\n",
    "        ]\n",
    "    )\n",
    "    history = model.fit(\n",
    "        train_features,\n",
    "        train_label,\n",
    "        validation_data=(val_features, val_label),\n",
    "        batch_size=8,\n",
    "        epochs=10,\n",
    "        verbose=1,\n",
    "        use_multiprocessing=True,\n",
    "        workers=20\n",
    "    )\n",
    "\n",
    "    return model, history"
   ]
  },
  {
   "cell_type": "code",
   "execution_count": 7,
   "metadata": {},
   "outputs": [
    {
     "name": "stdout",
     "output_type": "stream",
     "text": [
      "Epoch 1/10\n",
      "7/7 [==============================] - 2s 61ms/step - loss: 45435148.0000 - auc: 0.3583 - binary_accuracy: 0.3600 - val_loss: 383362.7188 - val_auc: 0.5000 - val_binary_accuracy: 0.7800\n",
      "Epoch 2/10\n",
      "7/7 [==============================] - 0s 9ms/step - loss: 20544902.0000 - auc: 0.4911 - binary_accuracy: 0.4600 - val_loss: 270670.8750 - val_auc: 0.5000 - val_binary_accuracy: 0.7800\n",
      "Epoch 3/10\n",
      "7/7 [==============================] - 0s 10ms/step - loss: 25188898.0000 - auc: 0.5348 - binary_accuracy: 0.4800 - val_loss: 364491.6875 - val_auc: 0.5000 - val_binary_accuracy: 0.7800\n",
      "Epoch 4/10\n",
      "7/7 [==============================] - 0s 10ms/step - loss: 18871458.0000 - auc: 0.6096 - binary_accuracy: 0.5600 - val_loss: 680961.2500 - val_auc: 0.5000 - val_binary_accuracy: 0.7800\n",
      "Epoch 5/10\n",
      "7/7 [==============================] - 0s 10ms/step - loss: 14032303.0000 - auc: 0.5499 - binary_accuracy: 0.5000 - val_loss: 1036626.5000 - val_auc: 0.5000 - val_binary_accuracy: 0.7800\n",
      "Epoch 6/10\n",
      "7/7 [==============================] - 0s 10ms/step - loss: 15053757.0000 - auc: 0.4768 - binary_accuracy: 0.4600 - val_loss: 1085107.2500 - val_auc: 0.5000 - val_binary_accuracy: 0.7800\n",
      "Epoch 7/10\n",
      "7/7 [==============================] - 0s 10ms/step - loss: 15805044.0000 - auc: 0.5365 - binary_accuracy: 0.5200 - val_loss: 1159245.0000 - val_auc: 0.5000 - val_binary_accuracy: 0.7800\n",
      "Epoch 8/10\n",
      "7/7 [==============================] - 0s 10ms/step - loss: 9489465.0000 - auc: 0.5660 - binary_accuracy: 0.5400 - val_loss: 1347560.7500 - val_auc: 0.5000 - val_binary_accuracy: 0.7800\n",
      "Epoch 9/10\n",
      "7/7 [==============================] - 0s 10ms/step - loss: 9841663.0000 - auc: 0.5668 - binary_accuracy: 0.5600 - val_loss: 1611260.3750 - val_auc: 0.5000 - val_binary_accuracy: 0.7800\n",
      "Epoch 10/10\n",
      "7/7 [==============================] - 0s 10ms/step - loss: 14961394.0000 - auc: 0.5080 - binary_accuracy: 0.5200 - val_loss: 1822618.2500 - val_auc: 0.5000 - val_binary_accuracy: 0.7800\n"
     ]
    }
   ],
   "source": [
    "# run the models\n",
    "train_data = pd.read_parquet('data/train_data.parquet')\n",
    "val_data = pd.read_parquet('data/val_data.parquet')\n",
    "trained_model, training_history = train(train_data, val_data)\n",
    "trained_model.save_weights('data/missing_imputation.h5')"
   ]
  },
  {
   "cell_type": "code",
   "execution_count": 12,
   "metadata": {},
   "outputs": [
    {
     "name": "stdout",
     "output_type": "stream",
     "text": [
      "2/2 [==============================] - 0s 2ms/step\n",
      "ROC AUC Score: 0.500\n",
      "Accuracy Score: 0.780\n",
      "F1 Score: 0.876\n"
     ]
    }
   ],
   "source": [
    "# model evaluations\n",
    "prediction_model = get_model()\n",
    "prediction_model.load_weights('data/missing_imputation.h5')\n",
    "val_features = {\n",
    "    'individual_id': np.array(val_data['yearid_id']),\n",
    "    'question_id': np.array(val_data['question_id']),\n",
    "    'year_id': np.array(val_data['year_order'])\n",
    "}\n",
    "pred = prediction_model.predict(val_features)\n",
    "obs = val_data['binarized'].values\n",
    "roc_auc = roc_auc_score(obs, pred)\n",
    "accuracy = accuracy_score(obs, pred > 0.5)\n",
    "f1 = f1_score(obs, pred)\n",
    "print(f\"ROC AUC Score: {roc_auc:.3f}\")\n",
    "print(f\"Accuracy Score: {accuracy:.3f}\")\n",
    "print(f\"F1 Score: {f1:.3f}\")"
   ]
  },
  {
   "cell_type": "code",
   "execution_count": 9,
   "metadata": {},
   "outputs": [
    {
     "data": {
      "text/plain": [
       "array([1, 1, 1, 0, 1, 1, 1, 1, 0, 0, 0, 1, 1, 1, 1, 1, 1, 1, 0, 1, 1, 1,\n",
       "       1, 0, 0, 1, 0, 1, 1, 1, 1, 1, 1, 1, 1, 1, 1, 1, 1, 1, 0, 0, 1, 1,\n",
       "       1, 1, 1, 1, 0, 1])"
      ]
     },
     "execution_count": 9,
     "metadata": {},
     "output_type": "execute_result"
    }
   ],
   "source": [
    "obs"
   ]
  },
  {
   "cell_type": "code",
   "execution_count": null,
   "metadata": {},
   "outputs": [],
   "source": []
  },
  {
   "cell_type": "code",
   "execution_count": null,
   "metadata": {},
   "outputs": [],
   "source": []
  }
 ],
 "metadata": {
  "kernelspec": {
   "display_name": "base",
   "language": "python",
   "name": "python3"
  },
  "language_info": {
   "codemirror_mode": {
    "name": "ipython",
    "version": 3
   },
   "file_extension": ".py",
   "mimetype": "text/x-python",
   "name": "python",
   "nbconvert_exporter": "python",
   "pygments_lexer": "ipython3",
   "version": "3.9.7"
  }
 },
 "nbformat": 4,
 "nbformat_minor": 2
}
